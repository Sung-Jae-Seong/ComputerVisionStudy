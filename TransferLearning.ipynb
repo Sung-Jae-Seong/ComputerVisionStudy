{
  "nbformat": 4,
  "nbformat_minor": 0,
  "metadata": {
    "colab": {
      "provenance": []
    },
    "kernelspec": {
      "name": "python3",
      "display_name": "Python 3"
    },
    "language_info": {
      "name": "python"
    }
  },
  "cells": [
    {
      "cell_type": "code",
      "source": [
        "#network.add(tf.keras.layers.Conv2D(16, (3, 3), (1, 1), 'same', activation='relu', input_shape=(128, 128, 1)))\n",
        "# 16은 사용할 커널필터의 개수 (3,3)은 커널의 크기\n",
        "# (1,1)은 x, y축으로 1칸씩 이동, same은 padding 알고리즘\n",
        "# 실행하고 나면 (128, 128, 16)이 된다.\n",
        "# 합성곱 : 필터를 통해 이미지의 특징을 강조한다.\n",
        "# 풀링 : 이미지의 차원을 요약한다.\n",
        "# 평균풀링 : 각 필터의 평균값을 계산한다. 즉 (1,1)부터 (128, 128)의 16개 커널에 대해서 각각 16개의 평균값을 계산한다.\n",
        "#GlobalAveragePooling2D vs Flatten()\n",
        "#합성곱 layer와 pooling은 일반적인 특성, 밀집층은 우리의 특별한 목적에 관해 학습을 제공한다."
      ],
      "metadata": {
        "id": "zviVEyakSFgF"
      },
      "execution_count": null,
      "outputs": []
    },
    {
      "cell_type": "code",
      "execution_count": null,
      "metadata": {
        "id": "aelcv_9rOqm9"
      },
      "outputs": [],
      "source": [
        "import tensorflow as tf\n",
        "import seaborn as sns\n",
        "import zipfile\n",
        "import numpy as np\n",
        "import cv2\n",
        "from google.colab.patches import cv2_imshow\n",
        "from tensorflow.keras.preprocessing.image import ImageDataGenerator\n",
        "from tensorflow.keras.models import Model\n",
        "from tensorflow.keras.layers import Input, Dense, GlobalAveragePooling2D, Dropout"
      ]
    },
    {
      "cell_type": "code",
      "source": [
        "from google.colab import drive\n",
        "drive.mount('/content/drive')"
      ],
      "metadata": {
        "colab": {
          "base_uri": "https://localhost:8080/"
        },
        "id": "f-kpmCa4PZ-6",
        "outputId": "273952a1-8a0a-463e-8a78-0bcf9dd6e41a"
      },
      "execution_count": null,
      "outputs": [
        {
          "output_type": "stream",
          "name": "stdout",
          "text": [
            "Mounted at /content/drive\n"
          ]
        }
      ]
    },
    {
      "cell_type": "code",
      "source": [
        "path = \"/content/drive/MyDrive/ColabDrive/Computer_Vision_Masterclass/Datasets/homer_bart_2.zip\"\n",
        "zip_object = zipfile.ZipFile(file=path, mode='r')\n",
        "zip_object.extractall('./')\n",
        "zip_object.close()"
      ],
      "metadata": {
        "id": "DWyovdNhO4UL"
      },
      "execution_count": null,
      "outputs": []
    },
    {
      "cell_type": "code",
      "source": [
        "train_generator = ImageDataGenerator(rescale=1./255,\n",
        "                                     rotation_range = 7,\n",
        "                                     horizontal_flip = True,\n",
        "                                     zoom_range=0.2)\n",
        "train_dataset = train_generator.flow_from_directory('/content/homer_bart_2/training_set',\n",
        "                                                    target_size = (256, 256),\n",
        "                                                    batch_size = 8,\n",
        "                                                    class_mode = 'categorical',\n",
        "                                                    shuffle = True\n",
        "                                                    )"
      ],
      "metadata": {
        "colab": {
          "base_uri": "https://localhost:8080/"
        },
        "id": "Ol4QmhRUPvB_",
        "outputId": "62c3a72f-11b8-4572-b204-369ab49e1436"
      },
      "execution_count": null,
      "outputs": [
        {
          "output_type": "stream",
          "name": "stdout",
          "text": [
            "Found 215 images belonging to 2 classes.\n"
          ]
        }
      ]
    },
    {
      "cell_type": "code",
      "source": [
        "train_dataset.class_indices"
      ],
      "metadata": {
        "colab": {
          "base_uri": "https://localhost:8080/"
        },
        "id": "QHYmwlo-QjsX",
        "outputId": "a023dc9c-0c30-48e3-9ddc-1e311eb31216"
      },
      "execution_count": null,
      "outputs": [
        {
          "output_type": "execute_result",
          "data": {
            "text/plain": [
              "{'bart': 0, 'homer': 1}"
            ]
          },
          "metadata": {},
          "execution_count": 5
        }
      ]
    },
    {
      "cell_type": "code",
      "source": [
        "test_generator = ImageDataGenerator(rescale=1./255)\n",
        "test_dataset = test_generator.flow_from_directory('/content/homer_bart_2/test_set',\n",
        "                                                  target_size = (256, 256),\n",
        "                                                  batch_size = 1,\n",
        "                                                  class_mode = 'categorical',\n",
        "                                                  shuffle = True\n",
        "                                                  )"
      ],
      "metadata": {
        "colab": {
          "base_uri": "https://localhost:8080/"
        },
        "id": "Wg5dIcfEQxqU",
        "outputId": "f795b36c-65da-4dde-a456-f0465296fec0"
      },
      "execution_count": null,
      "outputs": [
        {
          "output_type": "stream",
          "name": "stdout",
          "text": [
            "Found 54 images belonging to 2 classes.\n"
          ]
        }
      ]
    },
    {
      "cell_type": "code",
      "source": [
        "base_model = tf.keras.applications.ResNet50(weights='imagenet', include_top = False,\n",
        "                                            input_tensor = Input(shape=(256,256,3)))"
      ],
      "metadata": {
        "colab": {
          "base_uri": "https://localhost:8080/"
        },
        "id": "mu180xZwRIzj",
        "outputId": "6a19bc92-bb60-4f89-8091-7d3dbca3b20d"
      },
      "execution_count": null,
      "outputs": [
        {
          "output_type": "stream",
          "name": "stdout",
          "text": [
            "Downloading data from https://storage.googleapis.com/tensorflow/keras-applications/resnet/resnet50_weights_tf_dim_ordering_tf_kernels_notop.h5\n",
            "94765736/94765736 [==============================] - 1s 0us/step\n"
          ]
        }
      ]
    },
    {
      "cell_type": "code",
      "source": [
        "print(len(base_model.layers)) #layer가 trainable한지\n",
        "for layer in base_model.layers:\n",
        "  layer.trainable = False # 전이학습을 위해 사전 모델의 가중치 업데이트를 막음\n",
        "base_model.summary()"
      ],
      "metadata": {
        "id": "_n8pboYjRwec"
      },
      "execution_count": null,
      "outputs": []
    },
    {
      "cell_type": "code",
      "source": [
        "print(base_model.output) #마지막 출력층의 특성 파악\n",
        "head_model = base_model.output # head_model에 연결 -> 평탄화 작업 필요\n",
        "head_model = GlobalAveragePooling2D()(head_model) #Sequential 클래스 대신 Model 클래스를 사용하기 때문에 모델과 모델을 연결하는 역할\n",
        "head_model = Dense(units=1025, activation='relu')(head_model) #why (평탄화 된 뉴런의 수 + 출력층의 뉴런 수) // 2\n",
        "head_model = Dropout(rate = 0.2)(head_model)\n",
        "head_model = Dense(units=1025, activation='relu')(head_model)\n",
        "head_model = Dropout(rate = 0.2)(head_model) #random?\n",
        "head_model = Dense(2, activation='softmax')(head_model)"
      ],
      "metadata": {
        "id": "avk4nxCoSWV0"
      },
      "execution_count": null,
      "outputs": []
    },
    {
      "cell_type": "code",
      "source": [
        "network = Model(inputs = base_model.input, outputs = head_model) #2개의 모델을 연결\n",
        "network.summary()"
      ],
      "metadata": {
        "id": "DrybHWvyU9LA"
      },
      "execution_count": null,
      "outputs": []
    },
    {
      "cell_type": "code",
      "source": [
        "network.compile(optimizer='Adam', loss = 'categorical_crossentropy', metrics=['accuracy'])\n",
        "history = network.fit(train_dataset, epochs = 50)"
      ],
      "metadata": {
        "id": "96DtgmX3VaEl"
      },
      "execution_count": null,
      "outputs": []
    },
    {
      "cell_type": "code",
      "source": [
        "from sklearn.metrics import accuracy_score\n",
        "prediction = network.predict(test_dataset)\n",
        "prediction = np.argmax(prediction, axis=1)\n",
        "accuracy_score(test_dataset.classes, prediction)"
      ],
      "metadata": {
        "colab": {
          "base_uri": "https://localhost:8080/"
        },
        "id": "8UZG7zryWbaa",
        "outputId": "1d1ba776-6745-4257-d46f-c7398a2e461c"
      },
      "execution_count": null,
      "outputs": [
        {
          "output_type": "stream",
          "name": "stdout",
          "text": [
            "54/54 [==============================] - 15s 258ms/step\n"
          ]
        },
        {
          "output_type": "execute_result",
          "data": {
            "text/plain": [
              "0.5555555555555556"
            ]
          },
          "metadata": {},
          "execution_count": 23
        }
      ]
    },
    {
      "cell_type": "code",
      "source": [
        "#Fine Tuning : 기존의 합성곱 신경망 또한 같이 가중치를 조정하는 것 -> 학습률을 작게 지정하여 너무 크게 변하지 않도록, 오버피팅 되지 않도록 조정함\n",
        "# 되도록 마지막 layer에 대해서 fine tuning을 한다. input layer에 가까워질 수록 일반적인 특성에 관한 것이기 때문이다."
      ],
      "metadata": {
        "id": "2PgfMdFXXRH-"
      },
      "execution_count": null,
      "outputs": []
    },
    {
      "cell_type": "code",
      "source": [
        "base_model.trainable = True\n",
        "fine_tuning_at = 140\n",
        "for layer in base_model.layers[:fine_tuning_at]:\n",
        "  layer.trainable = False"
      ],
      "metadata": {
        "id": "pp_KtU7bYEn2"
      },
      "execution_count": null,
      "outputs": []
    },
    {
      "cell_type": "code",
      "source": [
        "network.compile(optimizer='Adam', loss='categorical_crossentropy', metrics=['accuracy'])\n",
        "history = network.fit(train_dataset, epochs = 50)"
      ],
      "metadata": {
        "id": "5gXZFCmwZKPK"
      },
      "execution_count": null,
      "outputs": []
    },
    {
      "cell_type": "code",
      "source": [
        "from sklearn.metrics import accuracy_score\n",
        "prediction = network.predict(test_dataset)\n",
        "prediction = np.argmax(prediction, axis=1)\n",
        "accuracy_score(test_dataset.classes, prediction)"
      ],
      "metadata": {
        "id": "4oDZz_3cZK5V"
      },
      "execution_count": null,
      "outputs": []
    },
    {
      "cell_type": "code",
      "source": [
        "######### 숙제 ##########"
      ],
      "metadata": {
        "id": "PWpOqgVrq5Wh"
      },
      "execution_count": null,
      "outputs": []
    },
    {
      "cell_type": "code",
      "source": [
        "path = \"/content/drive/MyDrive/ColabDrive/Computer_Vision_Masterclass/Datasets/cat_dog_2.zip\"\n",
        "zip_object = zipfile.ZipFile(file=path, mode='r')\n",
        "zip_object.extractall('./')\n",
        "zip_object.close()"
      ],
      "metadata": {
        "id": "jVQREx1vrLRx"
      },
      "execution_count": null,
      "outputs": []
    },
    {
      "cell_type": "code",
      "source": [
        "train_generator = ImageDataGenerator(rescale=1./255,)\n",
        "train_dataset = train_generator.flow_from_directory('/content/cat_dog_2/training_set',\n",
        "                                                    target_size = (128, 128),\n",
        "                                                    batch_size = 128,\n",
        "                                                    class_mode = 'binary',\n",
        "                                                    shuffle = True\n",
        "                                                    )\n",
        "test_generator = ImageDataGenerator(rescale=1./255)\n",
        "test_dataset = test_generator.flow_from_directory('/content/cat_dog_2/test_set',\n",
        "                                                  target_size = (128, 128),\n",
        "                                                  batch_size = 1,\n",
        "                                                  class_mode = 'binary',\n",
        "                                                  shuffle = False\n",
        "                                                  )"
      ],
      "metadata": {
        "colab": {
          "base_uri": "https://localhost:8080/"
        },
        "id": "e3eqKWE0sKPt",
        "outputId": "c7a9e6c7-9537-4ba9-d7f9-c4cbe0d26d77"
      },
      "execution_count": null,
      "outputs": [
        {
          "output_type": "stream",
          "name": "stdout",
          "text": [
            "Found 4000 images belonging to 2 classes.\n",
            "Found 1000 images belonging to 2 classes.\n"
          ]
        }
      ]
    },
    {
      "cell_type": "code",
      "source": [
        "base_model = tf.keras.applications.MobileNetV2(weights='imagenet', include_top=False, input_shape=(128,128,3))\n",
        "for layer in base_model.layers:\n",
        "  layer.trainable = False"
      ],
      "metadata": {
        "id": "pbOo6_19shAs"
      },
      "execution_count": null,
      "outputs": []
    },
    {
      "cell_type": "code",
      "source": [
        "head_model = base_model.output\n",
        "head_model = tf.keras.layers.GlobalAveragePooling2D()(head_model)\n",
        "head_model = Dense(641, activation='relu')(head_model)\n",
        "head_model = Dropout(0.2)(head_model)\n",
        "head_model = Dense(641, activation='relu')(head_model)\n",
        "head_model = Dropout(0.2)(head_model)\n",
        "head_model = Dense(1, activation='sigmoid')(head_model)"
      ],
      "metadata": {
        "id": "Jq18ahqlszQk"
      },
      "execution_count": null,
      "outputs": []
    },
    {
      "cell_type": "code",
      "source": [
        "network = Model(inputs=base_model.input, outputs = head_model)"
      ],
      "metadata": {
        "id": "ubqql5JxtQ8-"
      },
      "execution_count": null,
      "outputs": []
    },
    {
      "cell_type": "code",
      "source": [
        "network.compile(loss='binary_crossentropy', optimizer = 'Adam', metrics = ['accuracy'])\n",
        "history = network.fit(train_dataset, epochs=5)"
      ],
      "metadata": {
        "colab": {
          "base_uri": "https://localhost:8080/"
        },
        "id": "FxRTkkNMtXKq",
        "outputId": "8b36a83f-a3cf-4c78-c3e4-ef683ac34076"
      },
      "execution_count": null,
      "outputs": [
        {
          "output_type": "stream",
          "name": "stdout",
          "text": [
            "Epoch 1/5\n",
            "32/32 [==============================] - 88s 3s/step - loss: 0.1767 - accuracy: 0.9302\n",
            "Epoch 2/5\n",
            "32/32 [==============================] - 64s 2s/step - loss: 0.0717 - accuracy: 0.9732\n",
            "Epoch 3/5\n",
            "32/32 [==============================] - 58s 2s/step - loss: 0.0508 - accuracy: 0.9822\n",
            "Epoch 4/5\n",
            "32/32 [==============================] - 57s 2s/step - loss: 0.0278 - accuracy: 0.9912\n",
            "Epoch 5/5\n",
            "32/32 [==============================] - 64s 2s/step - loss: 0.0146 - accuracy: 0.9962\n"
          ]
        }
      ]
    },
    {
      "cell_type": "code",
      "source": [
        "network.evaluate(test_dataset)"
      ],
      "metadata": {
        "colab": {
          "base_uri": "https://localhost:8080/"
        },
        "id": "ToiG_vxVtkgS",
        "outputId": "59681be8-a617-465e-dc61-01d26ba5c01f"
      },
      "execution_count": null,
      "outputs": [
        {
          "output_type": "stream",
          "name": "stdout",
          "text": [
            "1000/1000 [==============================] - 27s 26ms/step - loss: 0.1064 - accuracy: 0.9660\n"
          ]
        },
        {
          "output_type": "execute_result",
          "data": {
            "text/plain": [
              "[0.106431744992733, 0.9660000205039978]"
            ]
          },
          "metadata": {},
          "execution_count": 22
        }
      ]
    },
    {
      "cell_type": "code",
      "source": [
        "#############fine_tuning###############3\n",
        "fine_tuning_at = 100\n",
        "base_model.trainable = True\n",
        "for layer in base_model.layers[:fine_tuning_at]:\n",
        "  layer.trainable=False"
      ],
      "metadata": {
        "id": "02Dqjg-Gt74T"
      },
      "execution_count": null,
      "outputs": []
    },
    {
      "cell_type": "code",
      "source": [
        "network.compile(loss = 'binary_crossentropy', optimizer='Adam', metrics=['accuracy'])\n",
        "history = network.fit(train_dataset, epochs=5)"
      ],
      "metadata": {
        "colab": {
          "base_uri": "https://localhost:8080/"
        },
        "id": "V5PGru24ucGO",
        "outputId": "48ea3d21-4533-4e86-88d7-22a9c88d6d63"
      },
      "execution_count": null,
      "outputs": [
        {
          "output_type": "stream",
          "name": "stdout",
          "text": [
            "32/32 [==============================] - 124s 4s/step - loss: 0.2550 - accuracy: 0.9260\n"
          ]
        }
      ]
    },
    {
      "cell_type": "code",
      "source": [
        "prediction = network.predict(test_dataset)"
      ],
      "metadata": {
        "colab": {
          "base_uri": "https://localhost:8080/"
        },
        "id": "khTGXJ04wKaf",
        "outputId": "37a8501e-3136-413c-fd83-fdf09bbcaebf"
      },
      "execution_count": null,
      "outputs": [
        {
          "output_type": "stream",
          "name": "stdout",
          "text": [
            "1000/1000 [==============================] - 29s 29ms/step\n"
          ]
        }
      ]
    },
    {
      "cell_type": "code",
      "source": [
        "prediction = np.argmax(prediction, axis=1)"
      ],
      "metadata": {
        "id": "hX1mlWXgyXNF"
      },
      "execution_count": null,
      "outputs": []
    },
    {
      "cell_type": "code",
      "source": [
        "from sklearn.metrics import accuracy_score\n",
        "accuracy_score(test_dataset.classes, prediction)"
      ],
      "metadata": {
        "colab": {
          "base_uri": "https://localhost:8080/"
        },
        "id": "BQeOJPuqwQWe",
        "outputId": "cc4abcc5-72dd-4e88-a396-2f576ba8d7fe"
      },
      "execution_count": null,
      "outputs": [
        {
          "output_type": "execute_result",
          "data": {
            "text/plain": [
              "0.5"
            ]
          },
          "metadata": {},
          "execution_count": 35
        }
      ]
    },
    {
      "cell_type": "code",
      "source": [
        "network.evaluate(test_dataset)"
      ],
      "metadata": {
        "colab": {
          "base_uri": "https://localhost:8080/"
        },
        "id": "nV_hvWPLzAxE",
        "outputId": "0759033d-2c3b-4f26-c4e1-4d1e8cea728f"
      },
      "execution_count": null,
      "outputs": [
        {
          "output_type": "stream",
          "name": "stdout",
          "text": [
            "1000/1000 [==============================] - 26s 24ms/step - loss: 4.2580 - accuracy: 0.6590\n"
          ]
        },
        {
          "output_type": "execute_result",
          "data": {
            "text/plain": [
              "[4.257970809936523, 0.6589999794960022]"
            ]
          },
          "metadata": {},
          "execution_count": 36
        }
      ]
    }
  ]
}