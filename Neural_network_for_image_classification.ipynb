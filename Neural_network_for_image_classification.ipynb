{
 "cells": [
  {
   "cell_type": "markdown",
   "metadata": {
    "id": "Rcnq9xZfgg71"
   },
   "source": [
    "할일 : 반복적으로 파라미터를 비교하는 코드 -> kaggle에서 참고\n",
    "\n",
    "https://playground.tensorflow.org/   \n",
    "문제의 종류 :   \n",
    "  numerical -> regression(+이진분류)->하나의 output neuron,  \n",
    "  categorical -> classification -> 여러 개의 output neuron\n",
    "\n",
    "활성화함수  \n",
    "step : 0과 1만 출력하는 함수  \n",
    "sigmoid : step함수의 단점인 미분 불가능성을 해결했으며 출력값이 확률로 해석될 수 있음  \n",
    "hyperbolic tangent : -1부터 1까지 출력하는 함수  \n",
    "sinx : sinx의 값 즉 -1에서 1까지 출력하는 함수, 비선형적인 문제나 주기를 가지는 문제에 효율이 좋음  \n",
    "relu : 입력이 양수이면 그대로 출력하고 음수이면 0으로 출력, 비선형적인 문제에 효율이 좋음  \n",
    "\n",
    "손실함수 : 예측값과 실제값의 차이, 즉 오차를 구하는 함수  \n",
    "오차의 절댓값의 평균, 평균제곱오차, 원핫벡터를 입력값으로 갖는 교차 엔트로피 함수  \n",
    "원핫벡터란? categorical 데이터를 벡터로 변환한 것  \n",
    "A general and Adaptive Robust Loss Function : 다양한 유형의 오차와 이상치에 잘 적응할 수 있는 범용 손실 함수  \n",
    "AM-LFS 자기강화학습을 이용하여 기존의 손실 함수 중에 최적의 손실함수를 찾는 방식\n",
    "\n",
    "Gradient Descent(Optimization하는 방법)  \n",
    "stochastic : 데이터를 여러개로 나누고 반복적으로 학습해서 최적의 가중치를 찾는 것   \n",
    "adam : 관성을 이용해서 최적의 가중치를 찾는 것, 범용적으로 쓰임  \n",
    "truncated : 특정 조건을 주어서 원하는 레이어에 대해서만 최적의 가중치를 찾는 것  \n",
    "\n",
    "CostFunction  \n",
    "MSE  \n",
    "Cross-Entropy function : 예측된 확률 분포와 시제 분포 사이의 거리를 측정하는 함수   \n",
    "+) softmax algorithm : categorical 문제에서 output 뉴런이 여러 개일때 뉴런과 카테고리를 일대일 대응을 시키고 가장 확률이 높은 뉴런을 정답으로 한다.  \n",
    "Cross validation : n개로 나누고 하나를 제외한 뒤 학습하고 이를 반복한다.  \n",
    "  \n",
    "metric  \n",
    "\n",
    "|실제/예측|Positive예측|Negative 예측|\n",
    "|:---:|:---:|:---:|\n",
    "|Postive 실제|True Positive(TP)|False Negative(FN)|\n",
    "|Negative 실제|False Positive(FP)|True Negative(TN)|\n",
    "\n",
    "Accuracy(정확도) : 모든 예측 중 올바른 예측,\n",
    "(TP+TN) / 모든 케이스, 분포가 불균형하면 쓰기 어려움, 100에 하나 있는 경우  \n",
    "Recall(재현율) : 실제 positive중 예측에 성공한 것, TP / (TP+FN), 암환자인데 암이 없다고 예측하는 오류를 막기 위해 사용    \n",
    "Precision(정밀도) : 예측 positive 중 실제 positive, TP / (TP+FP). 암환자가 아닌데 암이 있다고 예측하는 오류를 막기 위해 사용  \n",
    "bmp파일 : 이미지 파일 정보가 그대로 담겨있는 파일 형식  \n",
    "\n",
    "노드와 은닉층의 수\n",
    "은닉층의 뉴런 = (입력층의 뉴런의 개수 + 출력층의 뉴런의 개수) / 2  \n",
    "2의 제곱수로 노드 수를 정한다. -> gpu의 연산 효율 고려  \n",
    "가운데를 두껍게 만든다.  \n",
    "1st layer : 8  \n",
    "2nd layer : 16  \n",
    "3rd layer : 8  \n",
    "  \n",
    "입력 데이터의 양이 적을 때 -> 많은 레이어 수는 문제가 될 수 있음(오버피팅), 노드 수를 늘리고 레이어 수를 줄이는게 도움이 됨  \n",
    "입력 데이터의 종류가 다양할 때 -> 노드 수 늘리기  \n",
    "문제 자체가 복잡할 때 -> 레이어 수 늘리기(개-고양이 분류 vs 자율주행)"
   ]
  },
  {
   "cell_type": "code",
   "execution_count": null,
   "metadata": {
    "colab": {
     "base_uri": "https://localhost:8080/",
     "height": 35
    },
    "id": "Rgs5cKTDX5Fr",
    "outputId": "08466c70-48c4-4f1d-f49d-1eb6c67ec4e1"
   },
   "outputs": [
    {
     "data": {
      "application/vnd.google.colaboratory.intrinsic+json": {
       "type": "string"
      },
      "text/plain": [
       "'2.15.0'"
      ]
     },
     "execution_count": 1,
     "metadata": {},
     "output_type": "execute_result"
    }
   ],
   "source": [
    "import cv2\n",
    "import numpy as np\n",
    "import os\n",
    "import zipfile\n",
    "from google.colab.patches import cv2_imshow\n",
    "import tensorflow as tf\n",
    "import matplotlib.pyplot as plt\n",
    "import pandas as pd\n",
    "import seaborn as sns\n",
    "\n",
    "tf.__version__"
   ]
  },
  {
   "cell_type": "code",
   "execution_count": null,
   "metadata": {
    "colab": {
     "base_uri": "https://localhost:8080/"
    },
    "id": "Pqjx7xDgX_4k",
    "outputId": "353d9175-e664-4501-bb80-355a43b845f2"
   },
   "outputs": [
    {
     "name": "stdout",
     "output_type": "stream",
     "text": [
      "Mounted at /content/drice\n"
     ]
    }
   ],
   "source": [
    "from google.colab import drive\n",
    "drive.mount('/content/drice')"
   ]
  },
  {
   "cell_type": "code",
   "execution_count": null,
   "metadata": {
    "id": "52h1efccYhIB"
   },
   "outputs": [],
   "source": [
    "path = \"/content/drice/MyDrive/ColabDrive/Computer_Vision_Masterclass/Datasets/homer_bart_1.zip\"\n",
    "zip_object = zipfile.ZipFile(file=path, mode='r')\n",
    "zip_object.extractall('./')\n",
    "zip_object.close()"
   ]
  },
  {
   "cell_type": "code",
   "execution_count": null,
   "metadata": {
    "id": "ZVa9o3NTY5hO"
   },
   "outputs": [],
   "source": [
    "directory = '/content/homer_bart_1'\n",
    "files = [os.path.join(directory, f) for f in sorted(os.listdir(directory))]"
   ]
  },
  {
   "cell_type": "code",
   "execution_count": null,
   "metadata": {
    "id": "7BAbDNThTM6u"
   },
   "outputs": [],
   "source": [
    "height, width = 128, 128\n",
    "images = []\n",
    "classes = []"
   ]
  },
  {
   "cell_type": "code",
   "execution_count": null,
   "metadata": {
    "id": "FZcC0u0GUhaP"
   },
   "outputs": [],
   "source": [
    "for image_path in files:\n",
    "  try:\n",
    "    image = cv2.imread(image_path)\n",
    "    (H, W) = image.shape[:2]\n",
    "  except:\n",
    "    continue\n",
    "  image = cv2.resize(image, (width, height))\n",
    "  image = cv2.cvtColor(image, cv2.COLOR_BGR2GRAY)\n",
    "  image = image.ravel() #matrics to vector\n",
    "  images.append(image)\n",
    "  image_name = os.path.basename(os.path.normpath(image_path)) #이미지의 이름만 추출 -> 검색\n",
    "  #os.path.normpath(image_path) 파일 경로를 python이 읽을 수 있는 형식으로 변환\n",
    "  #os.path.basename() 파일 경로에서 파일의 기본 이름(파일명) 추출\n",
    "  if image_name.startswith('b'):\n",
    "    class_name = 0\n",
    "  else:\n",
    "    class_name = 1\n",
    "  classes.append(class_name)"
   ]
  },
  {
   "cell_type": "code",
   "execution_count": null,
   "metadata": {
    "id": "Zrieq1x2U2zX"
   },
   "outputs": [],
   "source": [
    "X = np.asarray(images)\n",
    "Y = np.array(classes)"
   ]
  },
  {
   "cell_type": "code",
   "execution_count": null,
   "metadata": {
    "colab": {
     "base_uri": "https://localhost:8080/",
     "height": 449
    },
    "id": "NQObaSfZGA4t",
    "outputId": "af6ecd4c-55a5-48c4-b98a-9ab68fca77ea"
   },
   "outputs": [
    {
     "data": {
      "image/png": "[encoded data removed]",
      "text/plain": [
       "<Figure size 640x480 with 1 Axes>"
      ]
     },
     "metadata": {},
     "output_type": "display_data"
    }
   ],
   "source": [
    "dict_Y = {k: v for (k, v) in zip(*np.unique(Y, return_counts=True))}\n",
    "df_Y = pd.DataFrame(dict_Y.items(), columns=['Key', 'Value'])\n",
    "sns.barplot(x='Key', y='Value', data=df_Y)\n",
    "plt.show()"
   ]
  },
  {
   "cell_type": "code",
   "execution_count": null,
   "metadata": {
    "id": "hCA2g_xBQP6E"
   },
   "outputs": [],
   "source": [
    "from sklearn.preprocessing import MinMaxScaler\n",
    "scaler = MinMaxScaler()\n",
    "X = scaler.fit_transform(X)"
   ]
  },
  {
   "cell_type": "code",
   "execution_count": null,
   "metadata": {
    "id": "E_BeTbwrQpIG"
   },
   "outputs": [],
   "source": [
    "from sklearn.model_selection import train_test_split\n",
    "X_train, X_test, Y_train, Y_test = train_test_split(X, Y, test_size = 0.2, random_state = 1) #랜덤시드 유지 -> 항상 같게 분류됨"
   ]
  },
  {
   "cell_type": "code",
   "execution_count": null,
   "metadata": {
    "colab": {
     "base_uri": "https://localhost:8080/"
    },
    "id": "6B5R3zCURvgM",
    "outputId": "1cd62d05-e7cb-489c-850a-c03cb2f2d67a"
   },
   "outputs": [
    {
     "name": "stdout",
     "output_type": "stream",
     "text": [
      "Model: \"sequential\"\n",
      "_________________________________________________________________\n",
      " Layer (type)                Output Shape              Param #   \n",
      "=================================================================\n",
      " dense (Dense)               (None, 8193)              134242305 \n",
      "                                                                 \n",
      " dense_1 (Dense)             (None, 8193)              67133442  \n",
      "                                                                 \n",
      " dense_2 (Dense)             (None, 1)                 8194      \n",
      "                                                                 \n",
      "=================================================================\n",
      "Total params: 201383941 (768.22 MB)\n",
      "Trainable params: 201383941 (768.22 MB)\n",
      "Non-trainable params: 0 (0.00 Byte)\n",
      "_________________________________________________________________\n"
     ]
    }
   ],
   "source": [
    "network1 = tf.keras.models.Sequential()\n",
    "network1.add(tf.keras.layers.Dense(input_shape = (16384,), units=8193, activation='relu')) #Dense는 한 layer의 뉴런이 다음 layer의 뉴런과 연결됨\n",
    "#input_shape=() 입력층 뉴런의 개수\n",
    "#units= 은닉층의 뉴런의 개수\n",
    "network1.add(tf.keras.layers.Dense(units=8193, activation='relu'))\n",
    "network1.add(tf.keras.layers.Dense(units=1, activation='sigmoid')) #2나 3으로도 바꿔서 실행해보기\n",
    "network1.summary()"
   ]
  },
  {
   "cell_type": "code",
   "execution_count": null,
   "metadata": {
    "colab": {
     "base_uri": "https://localhost:8080/"
    },
    "id": "2VXpdNIpULgf",
    "outputId": "6169c1c9-cb01-4dc4-eafa-613314e737b7"
   },
   "outputs": [
    {
     "name": "stdout",
     "output_type": "stream",
     "text": [
      "Epoch 1/50\n",
      "7/7 [==============================] - 48s 5s/step - loss: 145.0850 - accuracy: 0.5256\n",
      "Epoch 2/50\n",
      "7/7 [==============================] - 23s 3s/step - loss: 13.9005 - accuracy: 0.6186\n",
      "Epoch 3/50\n",
      "7/7 [==============================] - 25s 3s/step - loss: 4.7652 - accuracy: 0.5163\n",
      "Epoch 4/50\n",
      "7/7 [==============================] - 26s 4s/step - loss: 1.2467 - accuracy: 0.5209\n",
      "Epoch 5/50\n",
      "7/7 [==============================] - 24s 3s/step - loss: 0.7623 - accuracy: 0.5488\n",
      "Epoch 6/50\n",
      "7/7 [==============================] - 24s 3s/step - loss: 0.7833 - accuracy: 0.6093\n",
      "Epoch 7/50\n",
      "7/7 [==============================] - 25s 4s/step - loss: 0.6687 - accuracy: 0.5442\n",
      "Epoch 8/50\n",
      "7/7 [==============================] - 25s 4s/step - loss: 0.6777 - accuracy: 0.5860\n",
      "Epoch 9/50\n",
      "7/7 [==============================] - 23s 3s/step - loss: 0.6460 - accuracy: 0.6651\n",
      "Epoch 10/50\n",
      "7/7 [==============================] - 25s 3s/step - loss: 0.7319 - accuracy: 0.6000\n",
      "Epoch 11/50\n",
      "7/7 [==============================] - 25s 4s/step - loss: 0.9609 - accuracy: 0.6000\n",
      "Epoch 12/50\n",
      "7/7 [==============================] - 23s 3s/step - loss: 0.8614 - accuracy: 0.5349\n",
      "Epoch 13/50\n",
      "7/7 [==============================] - 25s 3s/step - loss: 0.6835 - accuracy: 0.5581\n",
      "Epoch 14/50\n",
      "7/7 [==============================] - 25s 4s/step - loss: 0.6087 - accuracy: 0.6977\n",
      "Epoch 15/50\n",
      "7/7 [==============================] - 24s 3s/step - loss: 0.5713 - accuracy: 0.7116\n",
      "Epoch 16/50\n",
      "7/7 [==============================] - 24s 3s/step - loss: 0.5621 - accuracy: 0.7116\n",
      "Epoch 17/50\n",
      "7/7 [==============================] - 25s 4s/step - loss: 0.5774 - accuracy: 0.6698\n",
      "Epoch 18/50\n",
      "7/7 [==============================] - 25s 4s/step - loss: 0.5349 - accuracy: 0.7302\n",
      "Epoch 19/50\n",
      "7/7 [==============================] - 23s 3s/step - loss: 0.5850 - accuracy: 0.6558\n",
      "Epoch 20/50\n",
      "7/7 [==============================] - 26s 4s/step - loss: 0.5378 - accuracy: 0.6977\n",
      "Epoch 21/50\n",
      "7/7 [==============================] - 25s 4s/step - loss: 0.4886 - accuracy: 0.7395\n",
      "Epoch 22/50\n",
      "7/7 [==============================] - 25s 4s/step - loss: 0.6405 - accuracy: 0.6837\n",
      "Epoch 23/50\n",
      "7/7 [==============================] - 24s 3s/step - loss: 0.7691 - accuracy: 0.5907\n",
      "Epoch 24/50\n",
      "7/7 [==============================] - 25s 4s/step - loss: 0.6107 - accuracy: 0.6372\n",
      "Epoch 25/50\n",
      "7/7 [==============================] - 24s 3s/step - loss: 0.4899 - accuracy: 0.7395\n",
      "Epoch 26/50\n",
      "7/7 [==============================] - 29s 4s/step - loss: 0.3990 - accuracy: 0.8605\n",
      "Epoch 27/50\n",
      "7/7 [==============================] - 25s 3s/step - loss: 0.3283 - accuracy: 0.8326\n",
      "Epoch 28/50\n",
      "7/7 [==============================] - 25s 4s/step - loss: 0.5970 - accuracy: 0.7209\n",
      "Epoch 29/50\n",
      "7/7 [==============================] - 24s 3s/step - loss: 0.8112 - accuracy: 0.6465\n",
      "Epoch 30/50\n",
      "7/7 [==============================] - 25s 3s/step - loss: 0.5837 - accuracy: 0.6651\n",
      "Epoch 31/50\n",
      "7/7 [==============================] - 25s 4s/step - loss: 0.5824 - accuracy: 0.7581\n",
      "Epoch 32/50\n",
      "7/7 [==============================] - 24s 3s/step - loss: 0.4268 - accuracy: 0.8512\n",
      "Epoch 33/50\n",
      "7/7 [==============================] - 24s 3s/step - loss: 0.7762 - accuracy: 0.7023\n",
      "Epoch 34/50\n",
      "7/7 [==============================] - 25s 4s/step - loss: 1.1884 - accuracy: 0.5628\n",
      "Epoch 35/50\n",
      "7/7 [==============================] - 25s 4s/step - loss: 0.8178 - accuracy: 0.5349\n",
      "Epoch 36/50\n",
      "7/7 [==============================] - 24s 3s/step - loss: 0.6544 - accuracy: 0.5256\n",
      "Epoch 37/50\n",
      "7/7 [==============================] - 25s 3s/step - loss: 0.4509 - accuracy: 0.8326\n",
      "Epoch 38/50\n",
      "7/7 [==============================] - 25s 4s/step - loss: 0.6084 - accuracy: 0.6698\n",
      "Epoch 39/50\n",
      "7/7 [==============================] - 24s 3s/step - loss: 0.2838 - accuracy: 0.9256\n",
      "Epoch 40/50\n",
      "7/7 [==============================] - 25s 3s/step - loss: 0.3146 - accuracy: 0.8651\n",
      "Epoch 41/50\n",
      "7/7 [==============================] - 25s 4s/step - loss: 0.3400 - accuracy: 0.8186\n",
      "Epoch 42/50\n",
      "7/7 [==============================] - 24s 4s/step - loss: 0.3696 - accuracy: 0.8186\n",
      "Epoch 43/50\n",
      "7/7 [==============================] - 24s 3s/step - loss: 0.2107 - accuracy: 0.9023\n",
      "Epoch 44/50\n",
      "7/7 [==============================] - 25s 4s/step - loss: 0.4804 - accuracy: 0.7674\n",
      "Epoch 45/50\n",
      "7/7 [==============================] - 25s 4s/step - loss: 0.2926 - accuracy: 0.8791\n",
      "Epoch 46/50\n",
      "7/7 [==============================] - 23s 3s/step - loss: 0.3679 - accuracy: 0.8326\n",
      "Epoch 47/50\n",
      "7/7 [==============================] - 25s 3s/step - loss: 0.2981 - accuracy: 0.8651\n",
      "Epoch 48/50\n",
      "7/7 [==============================] - 25s 4s/step - loss: 0.2625 - accuracy: 0.8791\n",
      "Epoch 49/50\n",
      "7/7 [==============================] - 23s 3s/step - loss: 0.1243 - accuracy: 0.9814\n",
      "Epoch 50/50\n",
      "7/7 [==============================] - 25s 3s/step - loss: 0.1333 - accuracy: 0.9535\n"
     ]
    }
   ],
   "source": [
    "network1.compile(optimizer='Adam', loss='binary_crossentropy', metrics = ['accuracy']) #adam, binarycrossentrophy\n",
    "#크로스엔트로피, accuracy, precise, recall 등에 관한 것\n",
    "history = network1.fit(X_train, Y_train, epochs=50) #모델을 학습시키고 각 에포크마다 관련된 정보를 기록"
   ]
  },
  {
   "cell_type": "code",
   "execution_count": null,
   "metadata": {
    "colab": {
     "base_uri": "https://localhost:8080/",
     "height": 465
    },
    "id": "EzwxL8nE0Xc2",
    "outputId": "eec81d75-9be2-46cc-cf01-525fa395bb1d"
   },
   "outputs": [
    {
     "name": "stdout",
     "output_type": "stream",
     "text": [
      "dict_keys(['loss', 'accuracy'])\n"
     ]
    },
    {
     "data": {
      "text/plain": [
       "[<matplotlib.lines.Line2D at 0x7d8c926df250>]"
      ]
     },
     "execution_count": 28,
     "metadata": {},
     "output_type": "execute_result"
    },
    {
     "data": {
      "image/png": "[encoded data removed]",
      "text/plain": [
       "<Figure size 640x480 with 1 Axes>"
      ]
     },
     "metadata": {},
     "output_type": "display_data"
    }
   ],
   "source": [
    "print(history.history.keys())\n",
    "plt.plot(history.history['loss'])"
   ]
  },
  {
   "cell_type": "code",
   "execution_count": null,
   "metadata": {
    "colab": {
     "base_uri": "https://localhost:8080/"
    },
    "id": "1SS3kb8E1KpH",
    "outputId": "22359207-e923-49d0-9d7d-07b1d3d96f43"
   },
   "outputs": [
    {
     "name": "stdout",
     "output_type": "stream",
     "text": [
      "2/2 [==============================] - 1s 280ms/step\n"
     ]
    }
   ],
   "source": [
    "predictions = network1.predict(X_test)\n",
    "predictions = (predictions > 0.5)"
   ]
  },
  {
   "cell_type": "code",
   "execution_count": null,
   "metadata": {
    "colab": {
     "base_uri": "https://localhost:8080/"
    },
    "id": "9lymvmsk2DtC",
    "outputId": "59a28ec0-529d-4137-ea62-24935ed823af"
   },
   "outputs": [
    {
     "data": {
      "text/plain": [
       "0.7037037037037037"
      ]
     },
     "execution_count": 30,
     "metadata": {},
     "output_type": "execute_result"
    }
   ],
   "source": [
    "from sklearn.metrics import accuracy_score\n",
    "accuracy_score( Y_test, predictions) #y_test와 prediction 사이의 정답률 출력"
   ]
  },
  {
   "cell_type": "code",
   "execution_count": null,
   "metadata": {
    "colab": {
     "base_uri": "https://localhost:8080/",
     "height": 447
    },
    "id": "UkFuZOQv2Tze",
    "outputId": "1d32d7a3-7b82-4b6a-bbc8-72d2a7d56807"
   },
   "outputs": [
    {
     "data": {
      "text/plain": [
       "<Axes: >"
      ]
     },
     "execution_count": 36,
     "metadata": {},
     "output_type": "execute_result"
    },
    {
     "data": {
      "image/png": "[encoded data removed]",
      "text/plain": [
       "<Figure size 640x480 with 2 Axes>"
      ]
     },
     "metadata": {},
     "output_type": "display_data"
    }
   ],
   "source": [
    "from sklearn.metrics import confusion_matrix\n",
    "cm = confusion_matrix(Y_test, predictions)\n",
    "sns.heatmap(cm, annot=True)"
   ]
  },
  {
   "cell_type": "code",
   "execution_count": null,
   "metadata": {
    "id": "YyNh3jokI6fM"
   },
   "outputs": [],
   "source": [
    "from google.colab import drive\n",
    "drive.mount('/content/drive')"
   ]
  },
  {
   "cell_type": "code",
   "execution_count": null,
   "metadata": {
    "colab": {
     "base_uri": "https://localhost:8080/"
    },
    "id": "7MHjZsAd2lop",
    "outputId": "35897691-4901-4907-fa20-8316ec289b42"
   },
   "outputs": [
    {
     "name": "stdout",
     "output_type": "stream",
     "text": [
      "              precision    recall  f1-score   support\n",
      "\n",
      "           0       0.67      0.86      0.75        28\n",
      "           1       0.78      0.54      0.64        26\n",
      "\n",
      "    accuracy                           0.70        54\n",
      "   macro avg       0.72      0.70      0.69        54\n",
      "weighted avg       0.72      0.70      0.70        54\n",
      "\n"
     ]
    }
   ],
   "source": [
    "from sklearn.metrics import classification_report\n",
    "print(classification_report(Y_test, predictions))"
   ]
  },
  {
   "cell_type": "code",
   "execution_count": null,
   "metadata": {
    "id": "sPYDYZbO3CES"
   },
   "outputs": [],
   "source": [
    "model_json = network1.to_json() #모델의 구조를 json파일의 형식으로 변환\n",
    "with open('network1.json','w') as json_file:\n",
    "  json_file.write(model_json)"
   ]
  },
  {
   "cell_type": "code",
   "execution_count": null,
   "metadata": {
    "id": "gTbXJfT43gVa"
   },
   "outputs": [],
   "source": [
    "from keras.models import save_model\n",
    "network1_saved = save_model(network1, 'weights1.hdf5') #hdf5 가중치를 저장하는 파일 유형"
   ]
  },
  {
   "cell_type": "code",
   "execution_count": null,
   "metadata": {
    "colab": {
     "base_uri": "https://localhost:8080/",
     "height": 145
    },
    "id": "NIN1iCUvQXdA",
    "outputId": "e3653c29-3568-4ab5-fc85-7ed746597527"
   },
   "outputs": [
    {
     "data": {
      "image/png": "[encoded data removed]",
      "text/plain": [
       "<PIL.Image.Image image mode=L size=128x128>"
      ]
     },
     "metadata": {},
     "output_type": "display_data"
    }
   ],
   "source": [
    "#단일이미지 분류\n",
    "test_image = X_test[0]\n",
    "test_image = scaler.inverse_transform(test_image.reshape(1, -1)) #0과 1로의 정규화를 다시 0과 255의 데이터로 바꿈\n",
    "#reshape(-1,1)은 -1행과 1열로 재배열하라는 것, -1은 자동이라는 뜻\n",
    "cv2_imshow(test_image.reshape(width,height))"
   ]
  },
  {
   "cell_type": "code",
   "execution_count": null,
   "metadata": {
    "id": "dxgJ25TAV09e"
   },
   "outputs": [],
   "source": [
    "##############특성추출############"
   ]
  },
  {
   "cell_type": "code",
   "execution_count": null,
   "metadata": {
    "id": "3itpj_vTavI1"
   },
   "outputs": [],
   "source": [
    "files = [os.path.join(directory, f) for f in sorted(os.listdir(directory))]\n",
    "export = \"mouth,pants,shoes,tshirts,shorts,sneakers,class\\n\"\n",
    "show_image = True\n",
    "features = []"
   ]
  },
  {
   "cell_type": "code",
   "execution_count": null,
   "metadata": {
    "id": "94gPE7zmc87m"
   },
   "outputs": [],
   "source": [
    "for image_path in file:\n",
    "  try:\n",
    "    original_image = cv2.imread(image_path)\n",
    "    (H,W) = original_image.shape[:2]\n",
    "  except: continue\n",
    "  image=original_image.copy()\n",
    "  image_features =[]\n",
    "  mouth=pants=shoes=tshirts=shorts=sneakers=0\n",
    "\n",
    "image_name=os.path.basename(os.path.normpath(image_path))\n",
    "\n",
    "if image_name.startswith('b'):\n",
    "  class_name = 0\n",
    "else:\n",
    "  class_name = 1"
   ]
  }
 ],
 "metadata": {
  "colab": {
   "provenance": []
  },
  "kernelspec": {
   "display_name": "Python 3 (ipykernel)",
   "language": "python",
   "name": "python3"
  },
  "language_info": {
   "codemirror_mode": {
    "name": "ipython",
    "version": 3
   },
   "file_extension": ".py",
   "mimetype": "text/x-python",
   "name": "python",
   "nbconvert_exporter": "python",
   "pygments_lexer": "ipython3",
   "version": "3.8.10"
  }
 },
 "nbformat": 4,
 "nbformat_minor": 4
}
